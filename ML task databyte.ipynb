{
 "cells": [
  {
   "cell_type": "markdown",
   "metadata": {},
   "source": [
    "View(train_dataset)\n",
    "test_dataset$Drug=factor(test_dataset$Drug,levels=c(‘Placebo’,‘D-penicillamine’),labels=c(1,2))\n",
    "test_dataset$Sex=factor(test_dataset$Sex,levels=c(‘F’,‘M’),labels=c(0,1))\n",
    "test_dataset$Ascites=factor(test_dataset$Ascites,levels=c(‘N’,‘Y’),labels=c(1,0))\n",
    "test_dataset$Hepatomegaly=factor(test_dataset$Hepatomegaly,levels=c(‘N’,‘Y’),labels=c(1,0))\n",
    "test_dataset$Spiders=factor(test_dataset$Spiders,levels=c(‘N’,‘Y’),labels=c(1,0))\n",
    "test_dataset$Edema=factor(test_dataset$Edema,levels=c(‘N’,‘Y’),labels=c(1,0))\n",
    "test_dataset$Prothrombin=ifelse(is.na(test_dataset$Prothrombin),ave(test_dataset$Prothrombin,FUN=function(x) mean(x,na.rm=TRUE)),test_dataset$Prothrombin)\n",
    "test_dataset$Platelets=ifelse(is.na(test_dataset$Platelets),ave(test_dataset$Platelets,FUN=function(x) mean(x,na.rm=TRUE)),test_dataset$Platelets)\n",
    "test_dataset$Tryglicerides=ifelse(is.na(test_dataset$Tryglicerides),ave(test_dataset$Tryglicerides,FUN=function(x) mean(x,na.rm=TRUE)),test_dataset$Tryglicerides)\n",
    "test_dataset$SGOT=ifelse(is.na(test_dataset$SGOT),ave(test_dataset$SGOT,FUN=function(x) mean(x,na.rm=TRUE)),test_dataset$SGOT)\n",
    "test_dataset$Copper=ifelse(is.na(test_dataset$Copper),ave(test_dataset$SGOT,FUN=function(x) mean(x,na.rm=TRUE)),test_dataset$Copper)\n",
    "test_dataset$Copper=ifelse(is.na(test_dataset$Copper),ave(test_dataset$SGOT,FUN=function(x) mean(x,na.rm=TRUE)),test_dataset$Copper)\n",
    "test_dataset$Alk_Phos=ifelse(is.na(test_dataset$Alk_Phos),ave(test_dataset$Alk_Phos,FUN=function(x) mean(x,na.rm=TRUE)),test_dataset$Alk_Phos)\n",
    "train_dataset$Drug=factor(train_dataset$Drug,levels=c(‘Placebo’,‘D-penicillamine’),labels=c(1,2))\n",
    "train_dataset$Sex=factor(train_dataset$Sex,levels=c(‘F’,‘M’),labels=c(0,1))\n",
    "train_dataset$Ascites=factor(train_dataset$Ascites,levels=c(‘N’,‘Y’),labels=c(1,0))\n",
    "train_dataset$Hepatomegaly=factor(train_dataset$Hepatomegaly,levels=c(‘N’,‘Y’),labels=c(1,0))\n",
    "train_dataset$Spiders=factor(train_dataset$Spiders,levels=c(‘N’,‘Y’),labels=c(1,0))\n",
    "train_dataset$Edema=factor(train_dataset$Edema,levels=c(‘N’,‘Y’),labels=c(1,0))\n",
    "train_dataset$Prothrombin=ifelse(is.na(train_dataset$Prothrombin),ave(train_dataset$Prothrombin,FUN=function(x) mean(x,na.rm=TRUE)),train_dataset$Prothrombin)\n",
    "train_dataset$Platelets=ifelse(is.na(train_dataset$Platelets),ave(train_dataset$Platelets,FUN=function(x) mean(x,na.rm=TRUE)),train_dataset$Platelets)\n",
    "train_dataset$Tryglicerides=ifelse(is.na(train_dataset$Tryglicerides),ave(train_dataset$Tryglicerides,FUN=function(x) mean(x,na.rm=TRUE)),train_dataset$Tryglicerides)\n",
    "train_dataset$SGOT=ifelse(is.na(train_dataset$SGOT),ave(train_dataset$SGOT,FUN=function(x) mean(x,na.rm=TRUE)),train_dataset$SGOT)\n",
    "train_dataset$Copper=ifelse(is.na(train_dataset$Copper),ave(train_dataset$SGOT,FUN=function(x) mean(x,na.rm=TRUE)),train_dataset$Copper)\n",
    "train_dataset$Copper=ifelse(is.na(train_dataset$Copper),ave(train_dataset$SGOT,FUN=function(x) mean(x,na.rm=TRUE)),train_dataset$Copper)\n",
    "train_dataset$Alk_Phos=ifelse(is.na(train_dataset$Alk_Phos),ave(train_dataset$Alk_Phos,FUN=function(x) mean(x,na.rm=TRUE)),train_dataset$Alk_Phos)\n",
    "regressor=lm(formula=Stage\\~.,data=train_dataset) summary(regressor)\n",
    "y_pred=predict(regressor,newdata=test_dataset) y_pred"
   ],
   "id": "d6e0b992-1d79-471a-8333-ff8d3027d185"
  }
 ],
 "nbformat": 4,
 "nbformat_minor": 5,
 "metadata": {}
}
